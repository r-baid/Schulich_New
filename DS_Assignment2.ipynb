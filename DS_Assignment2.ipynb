{
 "cells": [
  {
   "cell_type": "code",
   "execution_count": 1,
   "metadata": {},
   "outputs": [],
   "source": [
    "import pandas as pd\n",
    "import numpy as np\n",
    "import seaborn as sns"
   ]
  },
  {
   "cell_type": "code",
   "execution_count": 2,
   "metadata": {},
   "outputs": [],
   "source": [
    "df= pd.read_csv(r'C:\\Users\\rahul\\Desktop\\MBAN\\Data Science\\experiment_dataset.csv')"
   ]
  },
  {
   "cell_type": "code",
   "execution_count": 3,
   "metadata": {},
   "outputs": [
    {
     "name": "stdout",
     "output_type": "stream",
     "text": [
      "<class 'pandas.core.frame.DataFrame'>\n",
      "RangeIndex: 1000 entries, 0 to 999\n",
      "Data columns (total 7 columns):\n",
      " #   Column      Non-Null Count  Dtype  \n",
      "---  ------      --------------  -----  \n",
      " 0   Unnamed: 0  1000 non-null   int64  \n",
      " 1   Age         1000 non-null   int64  \n",
      " 2   Location    1000 non-null   object \n",
      " 3   Device      1000 non-null   object \n",
      " 4   Variant     1000 non-null   object \n",
      " 5   Time Spent  1000 non-null   float64\n",
      " 6   CTR         1000 non-null   float64\n",
      "dtypes: float64(2), int64(2), object(3)\n",
      "memory usage: 54.8+ KB\n"
     ]
    }
   ],
   "source": [
    "df.info()"
   ]
  },
  {
   "cell_type": "code",
   "execution_count": 5,
   "metadata": {},
   "outputs": [
    {
     "data": {
      "text/html": [
       "<div>\n",
       "<style scoped>\n",
       "    .dataframe tbody tr th:only-of-type {\n",
       "        vertical-align: middle;\n",
       "    }\n",
       "\n",
       "    .dataframe tbody tr th {\n",
       "        vertical-align: top;\n",
       "    }\n",
       "\n",
       "    .dataframe thead th {\n",
       "        text-align: right;\n",
       "    }\n",
       "</style>\n",
       "<table border=\"1\" class=\"dataframe\">\n",
       "  <thead>\n",
       "    <tr style=\"text-align: right;\">\n",
       "      <th></th>\n",
       "      <th>Unnamed: 0</th>\n",
       "      <th>Age</th>\n",
       "      <th>Location</th>\n",
       "      <th>Device</th>\n",
       "      <th>Variant</th>\n",
       "      <th>Time Spent</th>\n",
       "      <th>CTR</th>\n",
       "    </tr>\n",
       "  </thead>\n",
       "  <tbody>\n",
       "    <tr>\n",
       "      <th>count</th>\n",
       "      <td>1000.000000</td>\n",
       "      <td>1000.000000</td>\n",
       "      <td>1000</td>\n",
       "      <td>1000</td>\n",
       "      <td>1000</td>\n",
       "      <td>1000.000000</td>\n",
       "      <td>1000.000000</td>\n",
       "    </tr>\n",
       "    <tr>\n",
       "      <th>unique</th>\n",
       "      <td>NaN</td>\n",
       "      <td>NaN</td>\n",
       "      <td>3</td>\n",
       "      <td>3</td>\n",
       "      <td>3</td>\n",
       "      <td>NaN</td>\n",
       "      <td>NaN</td>\n",
       "    </tr>\n",
       "    <tr>\n",
       "      <th>top</th>\n",
       "      <td>NaN</td>\n",
       "      <td>NaN</td>\n",
       "      <td>Location2</td>\n",
       "      <td>Device3</td>\n",
       "      <td>Control</td>\n",
       "      <td>NaN</td>\n",
       "      <td>NaN</td>\n",
       "    </tr>\n",
       "    <tr>\n",
       "      <th>freq</th>\n",
       "      <td>NaN</td>\n",
       "      <td>NaN</td>\n",
       "      <td>343</td>\n",
       "      <td>346</td>\n",
       "      <td>340</td>\n",
       "      <td>NaN</td>\n",
       "      <td>NaN</td>\n",
       "    </tr>\n",
       "    <tr>\n",
       "      <th>mean</th>\n",
       "      <td>499.500000</td>\n",
       "      <td>40.715000</td>\n",
       "      <td>NaN</td>\n",
       "      <td>NaN</td>\n",
       "      <td>NaN</td>\n",
       "      <td>22.713345</td>\n",
       "      <td>0.109145</td>\n",
       "    </tr>\n",
       "    <tr>\n",
       "      <th>std</th>\n",
       "      <td>288.819436</td>\n",
       "      <td>13.655557</td>\n",
       "      <td>NaN</td>\n",
       "      <td>NaN</td>\n",
       "      <td>NaN</td>\n",
       "      <td>5.479292</td>\n",
       "      <td>0.022366</td>\n",
       "    </tr>\n",
       "    <tr>\n",
       "      <th>min</th>\n",
       "      <td>0.000000</td>\n",
       "      <td>18.000000</td>\n",
       "      <td>NaN</td>\n",
       "      <td>NaN</td>\n",
       "      <td>NaN</td>\n",
       "      <td>7.114806</td>\n",
       "      <td>0.012975</td>\n",
       "    </tr>\n",
       "    <tr>\n",
       "      <th>25%</th>\n",
       "      <td>249.750000</td>\n",
       "      <td>28.000000</td>\n",
       "      <td>NaN</td>\n",
       "      <td>NaN</td>\n",
       "      <td>NaN</td>\n",
       "      <td>19.216608</td>\n",
       "      <td>0.094286</td>\n",
       "    </tr>\n",
       "    <tr>\n",
       "      <th>50%</th>\n",
       "      <td>499.500000</td>\n",
       "      <td>41.000000</td>\n",
       "      <td>NaN</td>\n",
       "      <td>NaN</td>\n",
       "      <td>NaN</td>\n",
       "      <td>22.506707</td>\n",
       "      <td>0.108944</td>\n",
       "    </tr>\n",
       "    <tr>\n",
       "      <th>75%</th>\n",
       "      <td>749.250000</td>\n",
       "      <td>53.000000</td>\n",
       "      <td>NaN</td>\n",
       "      <td>NaN</td>\n",
       "      <td>NaN</td>\n",
       "      <td>26.255950</td>\n",
       "      <td>0.124238</td>\n",
       "    </tr>\n",
       "    <tr>\n",
       "      <th>max</th>\n",
       "      <td>999.000000</td>\n",
       "      <td>64.000000</td>\n",
       "      <td>NaN</td>\n",
       "      <td>NaN</td>\n",
       "      <td>NaN</td>\n",
       "      <td>39.395770</td>\n",
       "      <td>0.172728</td>\n",
       "    </tr>\n",
       "  </tbody>\n",
       "</table>\n",
       "</div>"
      ],
      "text/plain": [
       "         Unnamed: 0          Age   Location   Device  Variant   Time Spent   \n",
       "count   1000.000000  1000.000000       1000     1000     1000  1000.000000  \\\n",
       "unique          NaN          NaN          3        3        3          NaN   \n",
       "top             NaN          NaN  Location2  Device3  Control          NaN   \n",
       "freq            NaN          NaN        343      346      340          NaN   \n",
       "mean     499.500000    40.715000        NaN      NaN      NaN    22.713345   \n",
       "std      288.819436    13.655557        NaN      NaN      NaN     5.479292   \n",
       "min        0.000000    18.000000        NaN      NaN      NaN     7.114806   \n",
       "25%      249.750000    28.000000        NaN      NaN      NaN    19.216608   \n",
       "50%      499.500000    41.000000        NaN      NaN      NaN    22.506707   \n",
       "75%      749.250000    53.000000        NaN      NaN      NaN    26.255950   \n",
       "max      999.000000    64.000000        NaN      NaN      NaN    39.395770   \n",
       "\n",
       "                CTR  \n",
       "count   1000.000000  \n",
       "unique          NaN  \n",
       "top             NaN  \n",
       "freq            NaN  \n",
       "mean       0.109145  \n",
       "std        0.022366  \n",
       "min        0.012975  \n",
       "25%        0.094286  \n",
       "50%        0.108944  \n",
       "75%        0.124238  \n",
       "max        0.172728  "
      ]
     },
     "execution_count": 5,
     "metadata": {},
     "output_type": "execute_result"
    }
   ],
   "source": [
    "df.describe(include='all')"
   ]
  },
  {
   "cell_type": "code",
   "execution_count": 7,
   "metadata": {},
   "outputs": [
    {
     "name": "stdout",
     "output_type": "stream",
     "text": [
      "           Time Spent       CTR\n",
      "Variant                        \n",
      "Control     20.070781  0.098554\n",
      "Variant A   24.805547  0.120269\n",
      "Variant B   23.343783  0.108933\n",
      "Variant\n",
      "Control      340\n",
      "Variant A    330\n",
      "Variant B    330\n",
      "dtype: int64\n"
     ]
    }
   ],
   "source": [
    "Variant_Types = df.groupby('Variant')[['Time Spent', 'CTR']].mean()\n",
    "Variant_Size = df.groupby('Variant').size()\n",
    "print(Variant_Types)\n",
    "print(Variant_Size)"
   ]
  },
  {
   "attachments": {},
   "cell_type": "markdown",
   "metadata": {},
   "source": [
    "It should be noted the CTR for Variant A is the highest. "
   ]
  },
  {
   "attachments": {},
   "cell_type": "markdown",
   "metadata": {},
   "source": [
    "Question 1. Analyze the results to determine which feature (if any) results in CTR or Time Spent lift."
   ]
  },
  {
   "cell_type": "code",
   "execution_count": 10,
   "metadata": {},
   "outputs": [
    {
     "name": "stdout",
     "output_type": "stream",
     "text": [
      "0.09855415286485454\n",
      "lift in CTR for feature A: 0.021715340138027603\n",
      "Average Time Spent for feature A: 4.734766375399197\n",
      "lift in CTR for feature B: 0.010378887088416652\n",
      "Average Time Spent for feature B: 3.27300196805772\n"
     ]
    }
   ],
   "source": [
    "control_group = df[df['Variant'] == 'Control']\n",
    "feature_a = df[df['Variant'] == 'Variant A']\n",
    "feature_b = df[df['Variant'] == 'Variant B']\n",
    "\n",
    "ctr_a = feature_a['CTR'].mean() - control_group['CTR'].mean()\n",
    "time_spent_lift_a = feature_a['Time Spent'].mean() - control_group['Time Spent'].mean()\n",
    "\n",
    "ctr_b = feature_b['CTR'].mean() - control_group['CTR'].mean()\n",
    "time_spent_lift_b = feature_b['Time Spent'].mean() - control_group['Time Spent'].mean()\n",
    "print(control_group['CTR'].mean())\n",
    "print(f\"lift in CTR for feature A: {ctr_a}\")\n",
    "print(f\"Average Time Spent for feature A: {time_spent_lift_a}\")\n",
    "print(f\"lift in CTR for feature B: {ctr_b}\")\n",
    "print(f\"Average Time Spent for feature B: {time_spent_lift_b}\")"
   ]
  },
  {
   "attachments": {},
   "cell_type": "markdown",
   "metadata": {},
   "source": [
    "Analyzing the results to determine which feature results in a lift in Click-Through-Rate (CTR) or Time Spent means comparing the performance of the different features (variants) to the control group:\n",
    "\n",
    "A greater value of CTR lift indicates that the feature is more effective in engaging users and encouraging them to interact with the feature compared to the control group. A greater value of Time Spent lift indicates that the feature is more engaging or valuable to users compared to the control group.\n",
    "\n",
    "Based on the initial results, Feature A has comparatively higher values (in both CTR lift and average time spent) than Feature B."
   ]
  },
  {
   "attachments": {},
   "cell_type": "markdown",
   "metadata": {},
   "source": [
    "Question 2. Conduct statistical testing to determine if there is a statistically significant difference between the features and the control group."
   ]
  },
  {
   "attachments": {},
   "cell_type": "markdown",
   "metadata": {},
   "source": [
    "The null hypothesis would suggest that there is no significant difference between the variations and the control group in terms of the click-through rate (CTR) or average time spent.\n",
    "\n",
    "Thus, for the given data set, we can consider the below as null-hypothesis:\n",
    "\n",
    "1. Between the control group and each feature version, the click-through rate did not significantly differ.\n",
    "2. The average amount of time spent between the control group and each feature variant is not significantly different.\n",
    "\n",
    "To determine if there is a significant difference between the variants and the control group in terms of the click-through rate (CTR) or average time spent, I need to use statistical tests such as the t-test and calculate the p-value.\n",
    "\n",
    "T-test:\n",
    "\"The t-test is used to compare the means of two groups.\" We have the control group and two feature variants (A and B). By conducting a t-test, I can assess if there is a significant difference in CTR and average time spent between each feature variant and the control group. The t-test will provide a t-value that quantifies the difference between the means.\n",
    "\n",
    "P-value:\n",
    "\"The p-value is a measure of the strength of evidence against the null hypothesis.\" In this context, it represents the probability of observing the data we have, if there is no real difference between the groups. By calculating the p-value, I can determine if the observed differences in CTR and average time spent are statistically significant or if they could have occurred by chance. If the p-value is below a predetermined significance level (e.g., 0.05), I can reject the null hypothesis and conclude that there is a statistically significant difference between the groups."
   ]
  },
  {
   "cell_type": "code",
   "execution_count": 12,
   "metadata": {},
   "outputs": [
    {
     "name": "stdout",
     "output_type": "stream",
     "text": [
      "For CTR - Feature A vs Control: p-value = 1.9602781373243157e-38\n",
      "For Average Time Spent - Feature A vs Control: p-value = 8.488565644996449e-31\n",
      "For CTR - Feature A vs Control: t-statistic = 13.829424737499187\n",
      "For Average Time Spent - Feature A vs Control: t-statistic= 12.142363487472364\n",
      "For CTR - Feature B vs Control: p-value = 1.8743198199982106e-10\n",
      "For Average Time Spent - Feature B vs Control: p-value = 1.496358076285182e-15\n",
      "For CTR - Feature A vs Control: t-statistic = 6.4718143491783255\n",
      "For Average Time Spent - Feature A vs Control: t-statistic= 8.174237395991806\n"
     ]
    }
   ],
   "source": [
    "import scipy.stats as stats\n",
    "\n",
    "# t-test for CTR and Average Time Spent between feature A and control group\n",
    "ctr_a = feature_a['CTR']\n",
    "time_spent_a = feature_a['Time Spent']\n",
    "\n",
    "t_statistic_ctr_a, p_value_ctr_a = stats.ttest_ind(ctr_a, control_group['CTR'])\n",
    "t_statistic_time_spent_a, p_value_time_spent_a = stats.ttest_ind(time_spent_a, control_group['Time Spent'])\n",
    "\n",
    "# t-test for CTR and Average Time Spent between feature B and control group\n",
    "ctr_b = feature_b['CTR']\n",
    "time_spent_b = feature_b['Time Spent']\n",
    "\n",
    "t_statistic_ctr_b, p_value_ctr_b = stats.ttest_ind(ctr_b, control_group['CTR'])\n",
    "t_statistic_time_spent_b, p_value_time_spent_b = stats.ttest_ind(time_spent_b, control_group['Time Spent'])\n",
    "\n",
    "print(f\"For CTR - Feature A vs Control: p-value = {p_value_ctr_a}\")\n",
    "print(f\"For Average Time Spent - Feature A vs Control: p-value = {p_value_time_spent_a}\")\n",
    "\n",
    "print(f\"For CTR - Feature A vs Control: t-statistic = {t_statistic_ctr_a}\")\n",
    "print(f\"For Average Time Spent - Feature A vs Control: t-statistic= {t_statistic_time_spent_a}\")\n",
    "\n",
    "print(f\"For CTR - Feature B vs Control: p-value = {p_value_ctr_b}\")\n",
    "print(f\"For Average Time Spent - Feature B vs Control: p-value = {p_value_time_spent_b}\")\n",
    "\n",
    "\n",
    "print(f\"For CTR - Feature A vs Control: t-statistic = {t_statistic_ctr_b}\")\n",
    "print(f\"For Average Time Spent - Feature A vs Control: t-statistic= {t_statistic_time_spent_b}\")\n",
    "\n"
   ]
  },
  {
   "attachments": {},
   "cell_type": "markdown",
   "metadata": {},
   "source": [
    "Question 3. Summarize your results. Make a recommendation to the engineering team about which feature to deploy. "
   ]
  },
  {
   "attachments": {},
   "cell_type": "markdown",
   "metadata": {},
   "source": [
    "Based on the statistical result obtained above:\n",
    "\n",
    "For CTR:\n",
    "\n",
    "The control group has a CTR of 0.0986.\n",
    "Variant A has a higher CTR of 0.1203, indicating a lift of 0.0217 compared to the control group.\n",
    "Variant B has a slightly lower CTR of 0.1089, indicating a lift of 0.0104 compared to the control group.\n",
    "\n",
    "    For Variant A:\n",
    "    \n",
    "        The p-value for Feature A vs Control is approximately 1.96e-38, which is extremely small. This suggests a statistically significant difference in CTR between Feature A and the control group.\n",
    "\n",
    "        The t-statistic for Feature A vs Control is 6.4718, indicating a significant difference between the means of the two groups. The p-value associated with this t-statistic is very small (1.9603e-38), suggesting strong evidence against the null hypothesis.\n",
    "\n",
    "    For Variant B:\n",
    "    \n",
    "        The p-value for Feature B vs Control is approximately 1.87e-10, which is also very small. This indicates a statistically significant difference in CTR between Feature B and the control group.\n",
    "        \n",
    "        The t-statistic for Feature B vs Control is 13.8294, indicating a significant difference between the means of the two groups. The p-value associated with this t-statistic is also very small (1.8743e-10), providing strong evidence against the null hypothesis.\n",
    "\n",
    "For Average Time Spent:\n",
    "\n",
    "The control group has an average time spent of 20.0708 minutes.\n",
    "Variant A has a higher average time spent of 24.8055 minutes, indicating a lift of 4.7348 minutes compared to the control group.\n",
    "Variant B has a higher average time spent of 23.3438 minutes, indicating a lift of 3.2730 minutes compared to the control group.\n",
    "\n",
    "For Variant A:\n",
    "    \n",
    "        The p-value for Feature A vs Control is approximately 8.49e-31, which is extremely small. This indicates a statistically significant difference in Average Time Spent between Feature A and the control group.\n",
    "\n",
    "        The t-statistic for Feature A vs Control is 8.1742, indicating a significant difference between the means of the two groups. The p-value associated with this t-statistic is very small (8.4886e-31), indicating strong evidence against the null hypothesis.\n",
    "\n",
    "For Variant B:\n",
    "\n",
    "    The p-value for Feature B vs Control is approximately 1.50e-15, which is also very small. This suggests a statistically significant difference in Average Time Spent between Feature B and the control group.\n",
    "    \n",
    "    The t-statistic for Feature B vs Control is 12.1424, indicating a significant difference between the means of the two groups. The p-value associated with this t-statistic is also very small (1.4964e-15), providing strong evidence against the null hypothesis.\n",
    "\n",
    "\n",
    "Overall, both Variant A and Variant B show improvements in CTR compared to the control group, with Variant A having a higher lift in CTR. In terms of Average Time Spent, both variants show higher values than the control group, with Variant A having a larger lift.\n",
    "\n",
    "Finally, from the statistical result, obtained p-value and t-stats data indicates a significant difference, and provides strong evidence against the null hypothesis\n",
    "\n",
    "Based on these results, it can be concluded that Variant A performs better in terms of CTR and Average Time Spent compared to the control group and Variant B. Therefore, it is recommended to deploy Variant A to the audience.\n"
   ]
  },
  {
   "attachments": {},
   "cell_type": "markdown",
   "metadata": {},
   "source": [
    "Question 4. Create a roll-out plan. How quickly will you introduce the feature to your audience?"
   ]
  },
  {
   "attachments": {},
   "cell_type": "markdown",
   "metadata": {},
   "source": [
    "The timeline for implementing the roll-out plan will vary based on factors such as the feature's complexity, the user base size, and the available resources. Considering that, I would deploy the new changes in phases, so that I can consider several other factors such as its potential impact on the user experience, and the stability and reliability of the implementation. I would deploy it in the following phases:   \n",
    "\n",
    "Phase 1: Beta Release - Start by conducting a Beta release of the feature to a small set of users, such as a specific geographic region or a targeted user segment. This allows for initial testing and gathering feedback from a controlled group.\n",
    "\n",
    "Phase 2: Steady Expansion - Steadily expand the release to a larger user base while closely monitoring the performance and stability of the feature. This step helps identify any potential issues that might arise with increased usage.\n",
    "\n",
    "Phase 3: Iterative Improvement - Continuously gather user feedback and monitor key metrics related to the feature's performance, user engagement, and satisfaction. Based on the feedback and data, iterate and make necessary improvements to enhance the feature's effectiveness.\n",
    "\n",
    "Phase 4: Final Roll-out - Once the feature has been thoroughly tested, refined, and proven to deliver the desired outcomes, proceed with a full roll-out to the entire user base. This step ensures that all users can benefit from the feature's enhancements."
   ]
  }
 ],
 "metadata": {
  "kernelspec": {
   "display_name": "Python 3",
   "language": "python",
   "name": "python3"
  },
  "language_info": {
   "codemirror_mode": {
    "name": "ipython",
    "version": 3
   },
   "file_extension": ".py",
   "mimetype": "text/x-python",
   "name": "python",
   "nbconvert_exporter": "python",
   "pygments_lexer": "ipython3",
   "version": "3.11.3"
  },
  "orig_nbformat": 4
 },
 "nbformat": 4,
 "nbformat_minor": 2
}
